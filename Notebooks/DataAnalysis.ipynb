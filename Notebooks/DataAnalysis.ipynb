{
 "cells": [
  {
   "cell_type": "code",
   "execution_count": null,
   "metadata": {},
   "outputs": [],
   "source": [
    "import pandas as pd \n",
    "import matplotlib.pyplot as plt \n",
    "import cv2 \n",
    "import warnings"
   ]
  },
  {
   "cell_type": "markdown",
   "metadata": {},
   "source": [
    "# Load data"
   ]
  },
  {
   "cell_type": "code",
   "execution_count": null,
   "metadata": {},
   "outputs": [],
   "source": [
    "df_training_data  = pd.read_csv('../rsna-2024-lumbar-spine-degenerative-classification/train.csv')\n",
    "df_training_data_label_co = pd.read_csv(\"../rsna-2024-lumbar-spine-degenerative-classification/train_label_coordinates.csv\")\n",
    "df_training_data_description = pd.read_csv(\"../rsna-2024-lumbar-spine-degenerative-classification/train_series_descriptions.csv\")"
   ]
  },
  {
   "cell_type": "markdown",
   "metadata": {},
   "source": [
    "# Visualise distribution "
   ]
  },
  {
   "cell_type": "code",
   "execution_count": null,
   "metadata": {},
   "outputs": [],
   "source": [
    "figure, axis = plt.subplots(1,3, figsize=(20,5)) \n",
    "for idx, d in enumerate(['foraminal', 'subarticular', 'canal']):\n",
    "    diagnosis = list(filter(lambda x: x.find(d) > -1, df_training_data.columns))\n",
    "    dff = df_training_data[diagnosis]\n",
    "    with warnings.catch_warnings():\n",
    "        warnings.simplefilter(action='ignore', category=FutureWarning)\n",
    "        value_counts = dff.apply(pd.value_counts).fillna(0).T\n",
    "    value_counts.plot(kind='bar', stacked=True, ax=axis[idx])\n",
    "    axis[idx].set_title(f'{d} distribution')"
   ]
  },
  {
   "cell_type": "markdown",
   "metadata": {},
   "source": [
    "# Load image by patient"
   ]
  },
  {
   "cell_type": "code",
   "execution_count": null,
   "metadata": {},
   "outputs": [],
   "source": [
    "import os\n",
    "import pandas as pd\n",
    "from torchvision.io import read_image\n",
    "from torch.utils.data import Dataset\n",
    "import pydicom\n",
    "\n",
    "class MRILoader(Dataset):\n",
    "    def __init__(self, annotations, img_dir, transform=None, target_transform=None):\n",
    "        self.img_labels = annotations\n",
    "        self.img_dir = img_dir\n",
    "        self.transform = transform\n",
    "        self.target_transform = target_transform\n",
    "\n",
    "    def __len__(self):\n",
    "        return len(self.img_labels)\n",
    "\n",
    "    def __getitem__(self, idx):\n",
    "        img_path = os.path.join(self.img_dir, self.img_labels.iloc[idx, 0])\n",
    "        image = pydicom.dcmread(img_path)\n",
    "        label = self.img_labels.iloc[idx, 1]\n",
    "        if self.transform:\n",
    "            image = self.transform(image)\n",
    "        if self.target_transform:\n",
    "            label = self.target_transform(label)\n",
    "        return image, label"
   ]
  },
  {
   "cell_type": "code",
   "execution_count": null,
   "metadata": {},
   "outputs": [],
   "source": [
    "def display_coor_on_img(c, i):\n",
    "    center_coordinates = (int(c['x']), int(c['y']))\n",
    "    radius = 10\n",
    "    color = (255, 0, 0)  # Red color in BGR\n",
    "    thickness = 2\n",
    "    IMG = i['dicom'].pixel_array\n",
    "    IMG_normalized = cv2.normalize(IMG, None, alpha=0, beta=255, norm_type=cv2.NORM_MINMAX, dtype=cv2.CV_8U)\n",
    "    \n",
    "    IMG_with_circle = cv2.circle(IMG_normalized.copy(), center_coordinates, radius, color, thickness)\n",
    "    \n",
    "    # Convert the image from BGR to RGB for correct color display in matplotlib\n",
    "    IMG_with_circle = cv2.cvtColor(IMG_with_circle, cv2.COLOR_BGR2RGB)\n",
    "    \n",
    "    return IMG_with_circle"
   ]
  },
  {
   "cell_type": "code",
   "execution_count": null,
   "metadata": {},
   "outputs": [],
   "source": [
    "# Function to display images\n",
    "def display_images(images, title, max_images_per_row=4):\n",
    "\n",
    "    # Calculate the number of rows needed\n",
    "    num_images = len(images)\n",
    "    num_rows = (num_images + max_images_per_row - 1) // max_images_per_row  # Ceiling division\n",
    "\n",
    "    # Create a subplot grid\n",
    "    fig, axes = plt.subplots(num_rows, max_images_per_row, figsize=(5, 1.5 * num_rows))\n",
    "    \n",
    "    # Flatten axes array for easier looping if there are multiple rows\n",
    "    if num_rows > 1:\n",
    "        axes = axes.flatten()\n",
    "    else:\n",
    "        axes = [axes]  # Make it iterable for consistency\n",
    "\n",
    "    # Plot each image\n",
    "    for idx, image in enumerate(images):\n",
    "        ax = axes[idx]\n",
    "        #image = display_coor_on_img(coord[idx], image)\n",
    "        ax.imshow(image, cmap='gray')  # Assuming grayscale for simplicity, change cmap as needed\n",
    "        ax.axis('off')  # Hide axes\n",
    "\n",
    "    # Turn off unused subplots\n",
    "    for idx in range(num_images, len(axes)):\n",
    "        axes[idx].axis('off')\n",
    "    fig.suptitle(title, fontsize=16)\n",
    "\n",
    "    plt.tight_layout()"
   ]
  },
  {
   "cell_type": "code",
   "execution_count": null,
   "metadata": {},
   "outputs": [],
   "source": [
    "def load_by_patient_obj(path_dir):\n",
    "    images_dic = {}\n",
    "    axes_path = [x for x in os.listdir(path_dir) if not \".\" in x]\n",
    "    for axe_path in axes_path :\n",
    "        images_name = os.listdir(os.path.join(path_dir,axe_path))  \n",
    "        images = []\n",
    "        for image_name in images_name :\n",
    "            image = pydicom.dcmread(os.path.join(os.path.join(path_dir,axe_path),image_name))\n",
    "            images.append(image)\n",
    "        images_dic.update({axe_path :images })\n",
    "    return images_dic"
   ]
  },
  {
   "cell_type": "code",
   "execution_count": null,
   "metadata": {},
   "outputs": [],
   "source": [
    "images_dic = load_by_patient_obj(os.path.join(\"../rsna-2024-lumbar-spine-degenerative-classification/train_images\",str(4003253)))"
   ]
  },
  {
   "cell_type": "code",
   "execution_count": null,
   "metadata": {},
   "outputs": [],
   "source": [
    "df_data = df_training_data_description.merge(df_training_data,on=\"study_id\")"
   ]
  },
  {
   "cell_type": "code",
   "execution_count": null,
   "metadata": {},
   "outputs": [],
   "source": [
    "for patient_id in df_data.study_id.unique():\n",
    "    folders = df_data[df_data[\"study_id\"] == patient_id].series_id.values\n",
    "    for slicing in folders :\n",
    "        display_images(\n",
    "            [images_dic[str(slicing)][i].pixel_array for i in range(len(images_dic[str(slicing)]))],\n",
    "            df_data[\n",
    "                    (df_data[\"study_id\"] == patient_id) & (df_data[\"series_id\"] == slicing)\n",
    "                ].series_description.values[0],\n",
    "                max_images_per_row=4,\n",
    "\n",
    "        )\n",
    "    break"
   ]
  },
  {
   "cell_type": "code",
   "execution_count": null,
   "metadata": {},
   "outputs": [],
   "source": [
    "df_training_data_label_co[(df_training_data_label_co[\"study_id\"]==4003253)&(df_training_data_label_co[\"series_id\"]==2448190387)]\n"
   ]
  },
  {
   "cell_type": "code",
   "execution_count": null,
   "metadata": {},
   "outputs": [],
   "source": [
    "for patient_id in df_data.study_id.unique():\n",
    "    folders = df_data[df_data[\"study_id\"] == patient_id].series_id.values\n",
    "    df_training_data_label_co[(df_training_data_label_co[\"study_id\"]==4003253)&(df_training_data_label_co[\"series_id\"]==702807833)]"
   ]
  },
  {
   "cell_type": "code",
   "execution_count": null,
   "metadata": {},
   "outputs": [],
   "source": [
    "instances = df_training_data_label_co[(df_training_data_label_co[\"study_id\"]==4003253)&(df_training_data_label_co[\"series_id\"]==702807833)].instance_number.unique()"
   ]
  },
  {
   "cell_type": "code",
   "execution_count": null,
   "metadata": {},
   "outputs": [],
   "source": [
    "for instance in instances :\n",
    "    "
   ]
  },
  {
   "cell_type": "code",
   "execution_count": null,
   "metadata": {},
   "outputs": [],
   "source": []
  }
 ],
 "metadata": {
  "kernelspec": {
   "display_name": "kaggle_env",
   "language": "python",
   "name": "python3"
  },
  "language_info": {
   "codemirror_mode": {
    "name": "ipython",
    "version": 3
   },
   "file_extension": ".py",
   "mimetype": "text/x-python",
   "name": "python",
   "nbconvert_exporter": "python",
   "pygments_lexer": "ipython3",
   "version": "3.11.7"
  }
 },
 "nbformat": 4,
 "nbformat_minor": 2
}
